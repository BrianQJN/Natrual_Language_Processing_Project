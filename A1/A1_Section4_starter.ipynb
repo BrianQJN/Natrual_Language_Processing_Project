{
 "cells": [
  {
   "cell_type": "code",
   "execution_count": 43,
   "id": "dca90ff2",
   "metadata": {},
   "outputs": [
    {
     "name": "stderr",
     "output_type": "stream",
     "text": [
      "[nltk_data] Downloading package punkt to\n",
      "[nltk_data]     /Users/qujianning/nltk_data...\n",
      "[nltk_data]   Package punkt is already up-to-date!\n"
     ]
    },
    {
     "data": {
      "text/plain": [
       "True"
      ]
     },
     "execution_count": 43,
     "metadata": {},
     "output_type": "execute_result"
    }
   ],
   "source": [
    "%matplotlib inline\n",
    "import matplotlib.pyplot as plt\n",
    "from collections import Counter\n",
    "import numpy as np\n",
    "from nltk.tokenize import sent_tokenize\n",
    "import time\n",
    "import torch\n",
    "import spacy\n",
    "from pathlib import Path\n",
    "from sklearn.model_selection import train_test_split\n",
    "import torch.nn.functional as F\n",
    "\n",
    "import nltk\n",
    "nltk.download('punkt')\n"
   ]
  },
  {
   "cell_type": "code",
   "execution_count": 56,
   "id": "3e4a260a",
   "metadata": {},
   "outputs": [],
   "source": [
    "# prepare text using the both the nltk sentence tokenizer (https://www.nltk.org/api/nltk.tokenize.html)\n",
    "# AND the spacy english pipeline (see https://spacy.io/models/en)\n",
    "\n",
    "\n",
    "def prepare_texts(text, min_frequency=3):\n",
    "    \n",
    "    # Get a callable object from spacy that processes the text - lemmatizes and determines part of speech\n",
    "\n",
    "    nlp = spacy.load(\"en_core_web_sm\")\n",
    "    \n",
    "    # Some text cleaning. Do it by sentence, and eliminate punctuation.\n",
    "    lemmas = []\n",
    "    for sent in sent_tokenize(text):  # sent_tokenize separates the sentences \n",
    "        for tok in nlp(sent):         # nlp processes as in Part III\n",
    "            if tok.pos_ not in [\"PUNCT\", \"SPACE\", \"SYM\", \"NUM\", \"X\"] and tok.lemma_ not in \"[]|.,/?'\\\"+-=\":\n",
    "                lemmas.append(tok.lemma_)\n",
    "    \n",
    "    # Count the frequency of each lemmatized word\n",
    "    freqs = Counter()  # word -> occurrence\n",
    "    for w in lemmas:\n",
    "        freqs[w] += 1\n",
    "        \n",
    "    vocab = list(freqs.items())  # List of (word, occurrence)\n",
    "    vocab = sorted(vocab, key=lambda item: item[1], reverse=True)  # Sort by decreasing frequency\n",
    "    \n",
    "    # per Mikolov, don't use the infrequent words, as there isn't much to learn in that case\n",
    "    \n",
    "    frequent_vocab = list(filter(lambda item: item[1]>=min_frequency, vocab))\n",
    "    \n",
    "    # Create the dictionaries to go from word to index or vice-verse\n",
    "    \n",
    "    w2i = {w[0]:i for i,w in enumerate(frequent_vocab)}\n",
    "    i2w = {i:w[0] for i,w in enumerate(frequent_vocab)}\n",
    "    \n",
    "    # Create an Out Of Vocabulary (oov) token as well\n",
    "    w2i[\"<oov>\"] = len(frequent_vocab)\n",
    "    i2w[len(frequent_vocab)] = \"<oov>\"\n",
    "    \n",
    "    # Set all of the words not included in vocabulary nuas oov\n",
    "    filtered_lemmas = []\n",
    "    for lem in lemmas:\n",
    "        if lem not in w2i:\n",
    "            filtered_lemmas.append(\"<oov>\")\n",
    "        else:\n",
    "            filtered_lemmas.append(lem)\n",
    "    \n",
    "    return filtered_lemmas, w2i, i2w"
   ]
  },
  {
   "cell_type": "code",
   "execution_count": 57,
   "id": "3cdd9d0b",
   "metadata": {},
   "outputs": [
    {
     "name": "stdout",
     "output_type": "stream",
     "text": [
      "Number of words in the text: 62255\n",
      "Size of the filtered vocabulary: 2569\n",
      "\n",
      "Top 20 most frequent words:\n",
      "['the', 'of', 'be', 'and', 'in', 'to', 'a', 'for', 'as', 'by', 'he', 'with', 'coin', 'this', 'on', 'his', 'which', 'at', 'it', 'from']\n"
     ]
    }
   ],
   "source": [
    "# 1. Reading the text file\n",
    "with open(\"LargerCorpus.txt\", 'r') as file:\n",
    "    text = file.read()\n",
    "\n",
    "# 2. Processing the content using prepare_texts\n",
    "filtered_lemmas, w2i, i2w = prepare_texts(text)\n",
    "\n",
    "# 3. Determine number of words and vocabulary size\n",
    "num_words = len(filtered_lemmas)\n",
    "vocab_size = len(w2i)\n",
    "\n",
    "print(f\"Number of words in the text: {num_words}\")\n",
    "print(f\"Size of the filtered vocabulary: {vocab_size}\")\n",
    "\n",
    "# 4. Extracting top 20 most frequent words\n",
    "frequent_words = list(w2i.keys())[:20]  # Assuming w2i is already ordered by frequency\n",
    "print(\"\\nTop 20 most frequent words:\")\n",
    "print(frequent_words)\n",
    " "
   ]
  },
  {
   "cell_type": "markdown",
   "id": "5ac56a6e",
   "metadata": {},
   "source": [
    "### tokenize_and_preprocess_text creates the training samples for the model. It walks through each word in the corpus, and looks at a window (of size 'window') of words and creates input/output prediction pairs.  We need both positive (in window) samples and negative (out of window) samples."
   ]
  },
  {
   "cell_type": "code",
   "execution_count": 58,
   "id": "058ba40e",
   "metadata": {},
   "outputs": [
    {
     "name": "stdout",
     "output_type": "stream",
     "text": [
      "Total number of examples (both positive and negative): 996040\n",
      "First 10 target tokens: [706, 706, 706, 706, 706, 706, 706, 706, 82, 82]\n",
      "First 10 context tokens: [82, 1, 0, 2568, 0, 972, 7, 30, 706, 1]\n",
      "First 10 labels (1 for positive, -1 for negative): [1, 1, 1, 1, -1, -1, -1, -1, 1, 1]\n",
      "Total number of examples: 996040\n"
     ]
    }
   ],
   "source": [
    "import random\n",
    "\n",
    "def tokenize_and_preprocess_text(textlist, w2i, window):\n",
    "    \"\"\"\n",
    "    Skip-gram negative sampling: Predict if the target word is in the context.\n",
    "    Uses binary prediction so we need both positive and negative samples\n",
    "    \"\"\"\n",
    "    X, T, Y = [], [], []\n",
    "\n",
    "    # 1. Tokenize the input\n",
    "    tokenized_text = [w2i[word] if word in w2i else w2i[\"<oov>\"] for word in textlist]\n",
    "    \n",
    "    # 2. Loop through each token\n",
    "    for idx, token in enumerate(tokenized_text):\n",
    "        # Positive samples\n",
    "        start = max(0, idx - window + 1)\n",
    "        end = min(len(tokenized_text), idx + window)\n",
    "        \n",
    "        for j in range(start, end):\n",
    "            if j != idx:  # Make sure not to include the word itself\n",
    "                X.append(token)\n",
    "                T.append(tokenized_text[j])\n",
    "                Y.append(1)  # Positive sample\n",
    "        \n",
    "        # Negative samples\n",
    "        for _ in range(end - start - 1):  # Minus one to exclude the word itself\n",
    "            random_token = random.choice(tokenized_text)\n",
    "            while random_token == token:  # Ensure random word is different from the current word\n",
    "                random_token = random.choice(tokenized_text)\n",
    "            X.append(token)\n",
    "            T.append(random_token)\n",
    "            Y.append(-1)  # Negative sample\n",
    "\n",
    "    print(f\"Total number of examples (both positive and negative): {len(X)}\")\n",
    "    return X, T, Y\n",
    "\n",
    "# Define window size\n",
    "window_size = 5\n",
    "\n",
    "# 2. Generate Training Samples\n",
    "X, T, Y = tokenize_and_preprocess_text(filtered_lemmas, w2i, window_size)\n",
    "\n",
    "# 3. Examine the results\n",
    "print(\"First 10 target tokens:\", X[:10])\n",
    "print(\"First 10 context tokens:\", T[:10])\n",
    "print(\"First 10 labels (1 for positive, -1 for negative):\", Y[:10])\n",
    "\n",
    "# Check total number of examples\n",
    "print(f\"Total number of examples: {len(X)}\")\n",
    "\n"
   ]
  },
  {
   "cell_type": "code",
   "execution_count": 59,
   "id": "ad21d8aa",
   "metadata": {},
   "outputs": [
    {
     "name": "stdout",
     "output_type": "stream",
     "text": [
      "Total number of examples (both positive and negative): 133352\n",
      "Total number of examples after subsampling: 133352\n"
     ]
    }
   ],
   "source": [
    "from math import sqrt\n",
    "\n",
    "\n",
    "def subsample_probability(frequency, t=1e-5):\n",
    "    return min(1, (sqrt(frequency / t) + 1) * (t / frequency))\n",
    "\n",
    "def tokenize_and_preprocess_text_subsample(textlist, w2i, window):\n",
    "    \"\"\"\n",
    "    Skip-gram negative sampling with subsampling of frequent words.\n",
    "    \"\"\"\n",
    "    X, T, Y = [], [], []\n",
    "\n",
    "    # Calculate total word count for frequencies\n",
    "    total_count = len(textlist)\n",
    "    word_frequencies = {word: count / total_count for word, count in Counter(textlist).items()}\n",
    "    \n",
    "    # Tokenized and subsampled text\n",
    "    subsampled_text = [word for word in textlist if random.random() < subsample_probability(word_frequencies[word])]\n",
    "\n",
    "    # 2. Loop through each token\n",
    "    for idx, token in enumerate(subsampled_text):\n",
    "        # Positive samples\n",
    "        start = max(0, idx - window + 1)\n",
    "        end = min(len(subsampled_text), idx + window)\n",
    "        \n",
    "        for j in range(start, end):\n",
    "            if j != idx:  # Make sure not to include the word itself\n",
    "                X.append(token)\n",
    "                T.append(subsampled_text[j])\n",
    "                Y.append(1)  # Positive sample\n",
    "        \n",
    "        # Negative samples\n",
    "        for _ in range(end - start - 1):  # Minus one to exclude the word itself\n",
    "            random_token = random.choice(subsampled_text)\n",
    "            while random_token == token:  # Ensure random word is different from the current word\n",
    "                random_token = random.choice(subsampled_text)\n",
    "            X.append(token)\n",
    "            T.append(random_token)\n",
    "            Y.append(-1)  # Negative sample\n",
    "\n",
    "    print(f\"Total number of examples (both positive and negative): {len(X)}\")\n",
    "    return X, T, Y\n",
    "\n",
    "# Usage\n",
    "X, T, Y = tokenize_and_preprocess_text_subsample(filtered_lemmas, w2i, 5)\n",
    "\n",
    "# Check total number of examples\n",
    "print(f\"Total number of examples after subsampling: {len(X)}\")\n"
   ]
  },
  {
   "cell_type": "markdown",
   "id": "b7b12f50",
   "metadata": {},
   "source": [
    "## Define Model that will be trained to produce word vectors"
   ]
  },
  {
   "cell_type": "code",
   "execution_count": 60,
   "id": "91b381df",
   "metadata": {},
   "outputs": [],
   "source": [
    "class SkipGramNegativeSampling(torch.nn.Module):\n",
    "    def __init__(self, vocab_size, embedding_size):\n",
    "        super().__init__()\n",
    "        \n",
    "        # Initialize the embedding layer with `vocab_size` and `embedding_size`\n",
    "        self.embedding = torch.nn.Embedding(vocab_size, embedding_size)\n",
    "        \n",
    "    def forward(self, x, t):\n",
    "        # x: torch.tensor of shape (batch_size), context word\n",
    "        # t: torch.tensor of shape (batch_size), target (\"output\") word.\n",
    "        \n",
    "        # Fetch the embeddings for the context and target words\n",
    "        x_embed = self.embedding(x)\n",
    "        t_embed = self.embedding(t)\n",
    "        \n",
    "        # Compute the dot product for each pair of context and target embeddings\n",
    "        prediction = torch.sum(x_embed * t_embed, dim=1)\n",
    "        \n",
    "        return prediction\n"
   ]
  },
  {
   "cell_type": "markdown",
   "id": "0af2d1a1",
   "metadata": {},
   "source": [
    "#### The training function - give it the text and it does the rest"
   ]
  },
  {
   "cell_type": "code",
   "execution_count": 63,
   "id": "203a43fe",
   "metadata": {},
   "outputs": [
    {
     "name": "stdout",
     "output_type": "stream",
     "text": [
      "Total number of examples (both positive and negative): 996040\n",
      "Epoch 1/30, Training Loss: 0.8585, Validation Loss: 0.7649\n",
      "Epoch 2/30, Training Loss: 0.7223, Validation Loss: 0.7259\n",
      "Epoch 3/30, Training Loss: 0.6776, Validation Loss: 0.7089\n",
      "Epoch 4/30, Training Loss: 0.6467, Validation Loss: 0.7007\n",
      "Epoch 5/30, Training Loss: 0.6232, Validation Loss: 0.7007\n",
      "Epoch 6/30, Training Loss: 0.6043, Validation Loss: 0.7007\n",
      "Epoch 7/30, Training Loss: 0.5865, Validation Loss: 0.7023\n",
      "Epoch 8/30, Training Loss: 0.5710, Validation Loss: 0.7053\n",
      "Epoch 9/30, Training Loss: 0.5555, Validation Loss: 0.7070\n",
      "Epoch 10/30, Training Loss: 0.5385, Validation Loss: 0.7045\n",
      "Epoch 11/30, Training Loss: 0.5201, Validation Loss: 0.7016\n",
      "Epoch 12/30, Training Loss: 0.5034, Validation Loss: 0.6969\n",
      "Epoch 13/30, Training Loss: 0.4885, Validation Loss: 0.6958\n",
      "Epoch 14/30, Training Loss: 0.4751, Validation Loss: 0.6976\n",
      "Epoch 15/30, Training Loss: 0.4673, Validation Loss: 0.6990\n",
      "Epoch 16/30, Training Loss: 0.4599, Validation Loss: 0.7052\n",
      "Epoch 17/30, Training Loss: 0.4546, Validation Loss: 0.7113\n",
      "Epoch 18/30, Training Loss: 0.4507, Validation Loss: 0.7151\n",
      "Epoch 19/30, Training Loss: 0.4456, Validation Loss: 0.7235\n",
      "Epoch 20/30, Training Loss: 0.4406, Validation Loss: 0.7279\n",
      "Epoch 21/30, Training Loss: 0.4362, Validation Loss: 0.7345\n",
      "Epoch 22/30, Training Loss: 0.4327, Validation Loss: 0.7392\n",
      "Epoch 23/30, Training Loss: 0.4269, Validation Loss: 0.7414\n",
      "Epoch 24/30, Training Loss: 0.4204, Validation Loss: 0.7440\n",
      "Epoch 25/30, Training Loss: 0.4148, Validation Loss: 0.7441\n",
      "Epoch 26/30, Training Loss: 0.4095, Validation Loss: 0.7472\n",
      "Epoch 27/30, Training Loss: 0.4035, Validation Loss: 0.7479\n",
      "Epoch 28/30, Training Loss: 0.3964, Validation Loss: 0.7498\n",
      "Epoch 29/30, Training Loss: 0.3909, Validation Loss: 0.7503\n",
      "Epoch 30/30, Training Loss: 0.3850, Validation Loss: 0.7522\n"
     ]
    },
    {
     "data": {
      "image/png": "[encoded data removed]",
      "text/plain": [
       "<Figure size 432x288 with 1 Axes>"
      ]
     },
     "metadata": {
      "needs_background": "light"
     },
     "output_type": "display_data"
    }
   ],
   "source": [
    "import torch\n",
    "from torch.utils.data import DataLoader, TensorDataset, random_split\n",
    "import torch.nn.functional as F\n",
    "import matplotlib.pyplot as plt\n",
    "\n",
    "def train_sgns(textlist, window=5, embedding_size=8):\n",
    "    device = torch.device('cuda' if torch.cuda.is_available() else 'cpu')\n",
    "\n",
    "    # 1. Create Training Data\n",
    "    X, T, Y = tokenize_and_preprocess_text(textlist, w2i, window)\n",
    "    X = torch.tensor(X, dtype=torch.long)\n",
    "    T = torch.tensor(T, dtype=torch.long)\n",
    "    Y = torch.tensor(Y, dtype=torch.float32)\n",
    "    \n",
    "    # 2. Split the training data: 80% for training and 20% for validation\n",
    "    dataset = TensorDataset(X, T, Y)\n",
    "    train_size = int(0.8 * len(dataset))\n",
    "    val_size = len(dataset) - train_size\n",
    "    train_dataset, val_dataset = random_split(dataset, [train_size, val_size])\n",
    "    \n",
    "    batch_size = 4\n",
    "    train_loader = DataLoader(train_dataset, batch_size=batch_size, shuffle=True)\n",
    "    val_loader = DataLoader(val_dataset, batch_size=batch_size)\n",
    "    \n",
    "    # 3. Initialize the model and optimizer\n",
    "    network = SkipGramNegativeSampling(vocab_size=len(w2i), embedding_size=embedding_size).to(device)\n",
    "    optimizer = torch.optim.Adam(network.parameters(), lr=4e-4)  \n",
    "    \n",
    "    epochs = 30\n",
    "    train_losses = []\n",
    "    val_losses = []\n",
    "\n",
    "    for epoch in range(epochs):\n",
    "        network.train()\n",
    "        total_loss = 0\n",
    "        for x_batch, t_batch, y_batch in train_loader:\n",
    "            x_batch, t_batch, y_batch = x_batch.to(device), t_batch.to(device), y_batch.to(device)\n",
    "            optimizer.zero_grad()\n",
    "            prediction = network(x_batch, t_batch)\n",
    "            \n",
    "            # Custom loss function\n",
    "            loss = -torch.mean(y_batch * torch.log(torch.sigmoid(prediction) + 1e-5) + \n",
    "                              (1 - y_batch) * torch.log(1 - torch.sigmoid(prediction) + 1e-5))\n",
    "            \n",
    "            loss.backward()\n",
    "            optimizer.step()\n",
    "            total_loss += loss.item()\n",
    "            \n",
    "        train_losses.append(total_loss / len(train_loader))\n",
    "        \n",
    "        # Validation loss\n",
    "        network.eval()\n",
    "        total_val_loss = 0\n",
    "        with torch.no_grad():\n",
    "            for x_batch, t_batch, y_batch in val_loader:\n",
    "                prediction = network(x_batch, t_batch)\n",
    "                loss = -torch.mean(y_batch * torch.log(torch.sigmoid(prediction) + 1e-5) + \n",
    "                                  (1 - y_batch) * torch.log(1 - torch.sigmoid(prediction) + 1e-5))\n",
    "                total_val_loss += loss.item()\n",
    "                \n",
    "        val_losses.append(total_val_loss / len(val_loader))\n",
    "        print(f'Epoch {epoch+1}/{epochs}, Training Loss: {train_losses[-1]:.4f}, Validation Loss: {val_losses[-1]:.4f}')\n",
    "\n",
    "    # Plotting the training and validation curves\n",
    "    plt.plot(range(epochs), train_losses, label='Training Loss')\n",
    "    plt.plot(range(epochs), val_losses, label='Validation Loss')\n",
    "    plt.xlabel('Epochs')\n",
    "    plt.ylabel('Loss')\n",
    "    plt.legend()\n",
    "    plt.show()\n",
    "\n",
    "    return network\n",
    "\n",
    "# Run the training loop\n",
    "network = train_sgns(filtered_lemmas)"
   ]
  },
  {
   "cell_type": "markdown",
   "id": "e962cbc3",
   "metadata": {},
   "source": [
    "### Run Training and retrieve embedding"
   ]
  },
  {
   "cell_type": "code",
   "execution_count": 50,
   "id": "1b1fd857",
   "metadata": {},
   "outputs": [],
   "source": [
    "# Run the training loop\n",
    "network = train_sgns(filtered_lemmas)"
   ]
  },
  {
   "cell_type": "markdown",
   "id": "00d41f77",
   "metadata": {},
   "source": [
    "### Reduce the Dimensionality of Embeddings and Display"
   ]
  },
  {
   "cell_type": "code",
   "execution_count": 68,
   "id": "5f4edc22",
   "metadata": {},
   "outputs": [
    {
     "name": "stdout",
     "output_type": "stream",
     "text": [
      "Visualizing the 20 to 80 most frequent words\n"
     ]
    },
    {
     "data": {
      "image/png": "[encoded data removed]",
      "text/plain": [
       "<Figure size 864x864 with 1 Axes>"
      ]
     },
     "metadata": {
      "needs_background": "light"
     },
     "output_type": "display_data"
    }
   ],
   "source": [
    "from sklearn.decomposition import PCA \n",
    "import matplotlib.pyplot as plt\n",
    "\n",
    "def visualize_embedding(embedding, most_frequent_from=20, most_frequent_to=80):\n",
    "    print (\"Visualizing the {} to {} most frequent words\".format(most_frequent_from, most_frequent_to))\n",
    "    \n",
    "    # since the embeddings are ordered from most frequent words to least frequent, \n",
    "    # we can easily select a sub range of the most frequent words:\n",
    "    \n",
    "    selected_words = embedding[most_frequent_from:most_frequent_to, :]\n",
    "    \n",
    "    # The function below will reduce a vector to 2 principle components\n",
    "    \n",
    "    pca = PCA(n_components=2)\n",
    "    \n",
    "    # Transform the selected embeddings to have 2 dimensions\n",
    "    \n",
    "    embeddings_2d = pca.fit_transform(selected_words)\n",
    "    \n",
    "    # Plot the the reduced embeddings - a point and the word itself\n",
    "    \n",
    "    plt.figure(figsize=(12, 12))\n",
    "    plt.scatter(embeddings_2d[:, 0], embeddings_2d[:, 1])\n",
    "    for i, word in enumerate(list(i2w.values())[most_frequent_from:most_frequent_to]):\n",
    "        plt.annotate(word, (embeddings_2d[i, 0], embeddings_2d[i, 1]))\n",
    "        \n",
    "    plt.xlabel('PCA Dimension 1')\n",
    "    plt.ylabel('PCA Dimension 2')\n",
    "    plt.title('PCA-Transformed Embeddings')\n",
    "    plt.grid(True)\n",
    "    plt.show()\n",
    "    \n",
    "embeddings_tensor = network.embedding.weight.data\n",
    "visualize_embedding(embeddings_tensor.cpu().detach().numpy(), most_frequent_from=20, most_frequent_to=80)\n"
   ]
  }
 ],
 "metadata": {
  "kernelspec": {
   "display_name": "Python 3 (ipykernel)",
   "language": "python",
   "name": "python3"
  },
  "language_info": {
   "codemirror_mode": {
    "name": "ipython",
    "version": 3
   },
   "file_extension": ".py",
   "mimetype": "text/x-python",
   "name": "python",
   "nbconvert_exporter": "python",
   "pygments_lexer": "ipython3",
   "version": "3.9.12"
  }
 },
 "nbformat": 4,
 "nbformat_minor": 5
}
